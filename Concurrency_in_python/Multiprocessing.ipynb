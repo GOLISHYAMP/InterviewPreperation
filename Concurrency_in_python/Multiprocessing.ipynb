{
 "cells": [
  {
   "cell_type": "markdown",
   "metadata": {},
   "source": [
    "#### Multiprocessing in Python\n",
    "The multiprocessing module in Python allows you to create processes that can run in parallel, making it possible to fully utilize multiple CPU cores. Unlike threading, multiprocessing creates separate memory spaces for each process, avoiding the limitations of the Global Interpreter Lock (GIL)."
   ]
  },
  {
   "cell_type": "markdown",
   "metadata": {},
   "source": [
    "1. Multiprocessing Module Basics\n",
    "Creating Parallel Processes\n",
    "You can use multiprocessing.Process to create and run parallel processes."
   ]
  },
  {
   "cell_type": "code",
   "execution_count": null,
   "metadata": {},
   "outputs": [],
   "source": [
    "from multiprocessing import Process\n",
    "import time\n",
    "\n",
    "def func(id):\n",
    "    time.sleep(1)\n",
    "    print(f\"{id} function is running\")\n",
    "\n",
    "if __name__ == \"__main__\":\n",
    "    start = time.time()\n",
    "    for i in range(10):\n",
    "        process = []\n",
    "        p = Process(target=func, args=(i,))\n",
    "        process.append(p)\n",
    "        p.start()\n",
    "\n",
    "    for p in process:\n",
    "        p.join()\n",
    "    print(\"all work done in : \",time.time()-start)"
   ]
  },
  {
   "cell_type": "markdown",
   "metadata": {},
   "source": [
    "2. Inter-Process Communication\n",
    "Since processes in multiprocessing do not share memory, inter-process communication is necessary for sharing data between them. Python provides two primary methods: Queues and Pipes.\n",
    "\n",
    "<h3>Using Queues</h3>\n",
    "multiprocessing.Queue allows safe sharing of data between processes."
   ]
  },
  {
   "cell_type": "code",
   "execution_count": 1,
   "metadata": {},
   "outputs": [],
   "source": [
    "from multiprocessing import Process, Queue\n",
    "\n",
    "def producer(queue):\n",
    "    for i in range(5):\n",
    "        queue.put(f\"Item {i}\")\n",
    "    queue.put(None)  # Sentinel to indicate completion\n",
    "\n",
    "def consumer(queue):\n",
    "    while True:\n",
    "        item = queue.get()\n",
    "        if item is None:\n",
    "            break\n",
    "        print(f\"Consumed {item}\")\n",
    "\n",
    "if __name__ == \"__main__\":\n",
    "    queue = Queue()\n",
    "    p1 = Process(target=producer, args=(queue,))\n",
    "    p2 = Process(target=consumer, args=(queue,))\n",
    "    p1.start()\n",
    "    p2.start()\n",
    "    p1.join()\n",
    "    p2.join()\n"
   ]
  },
  {
   "cell_type": "markdown",
   "metadata": {},
   "source": [
    "#### Using Pipes\n",
    "multiprocessing.Pipe provides a two-way communication channel between processes."
   ]
  },
  {
   "cell_type": "code",
   "execution_count": null,
   "metadata": {},
   "outputs": [],
   "source": [
    "from multiprocessing import Process, Pipe\n",
    "\n",
    "def sender(conn):\n",
    "    conn.send(\"Hello from Sender!\")\n",
    "    conn.close()\n",
    "\n",
    "def receiver(conn):\n",
    "    message = conn.recv()\n",
    "    print(f\"Received: {message}\")\n",
    "\n",
    "if __name__ == \"__main__\":\n",
    "    parent_conn, child_conn = Pipe()\n",
    "    p1 = Process(target=sender, args=(child_conn,))\n",
    "    p2 = Process(target=receiver, args=(parent_conn,))\n",
    "    p1.start()\n",
    "    p2.start()\n",
    "    p1.join()\n",
    "    p2.join()\n"
   ]
  },
  {
   "cell_type": "markdown",
   "metadata": {},
   "source": [
    "3. Shared Memory\n",
    "To share data between processes without the need for inter-process communication, multiprocessing provides shared memory objects.\n",
    "\n",
    "#### Using multiprocessing.Value\n",
    "A Value is a single shared variable that can be updated by multiple processes."
   ]
  },
  {
   "cell_type": "code",
   "execution_count": null,
   "metadata": {},
   "outputs": [],
   "source": [
    "from multiprocessing import Process, Value\n",
    "import time\n",
    "\n",
    "def increment(shared_value):\n",
    "    for _ in range(1000):\n",
    "        shared_value.value += 1\n",
    "\n",
    "if __name__ == \"__main__\":\n",
    "    shared_value = Value('i', 0)  # 'i' indicates integer type\n",
    "    processes = [Process(target=increment, args=(shared_value,)) for _ in range(4)]\n",
    "    \n",
    "    for p in processes:\n",
    "        p.start()\n",
    "    for p in processes:\n",
    "        p.join()\n",
    "\n",
    "    print(f\"Final Value: {shared_value.value}\")\n"
   ]
  },
  {
   "cell_type": "markdown",
   "metadata": {},
   "source": [
    "#### Using multiprocessing.Array\n",
    "An Array is a shared array of values that can be updated by multiple processes."
   ]
  },
  {
   "cell_type": "code",
   "execution_count": null,
   "metadata": {},
   "outputs": [],
   "source": [
    "from multiprocessing import Process, Array\n",
    "\n",
    "def square_elements(shared_array, k):\n",
    "    for i in range(len(shared_array)):\n",
    "        shared_array[i] = shared_array[i] ** k\n",
    "\n",
    "if __name__ == \"__main__\":\n",
    "    shared_array = Array('i', [1, 2, 3, 4, 5])  # 'i' indicates integer type\n",
    "    p1 = Process(target=square_elements, args=(shared_array,2))\n",
    "    p2 = Process(target=square_elements, args=(shared_array,3))\n",
    "\n",
    "    p1.start()\n",
    "    p2.start()\n",
    "    p1.join()\n",
    "    p2.join()\n",
    "\n",
    "    print(\"Updated Array:\", list(shared_array))\n"
   ]
  },
  {
   "cell_type": "markdown",
   "metadata": {},
   "source": [
    "### Advanced Topics in Multiprocessing\n",
    "1. Using multiprocessing.Pool for Task Parallelism<br>\n",
    "The Pool class in multiprocessing simplifies the parallel execution of a function across a collection of inputs. It manages a pool of worker processes and distributes tasks among them."
   ]
  },
  {
   "cell_type": "code",
   "execution_count": null,
   "metadata": {},
   "outputs": [],
   "source": [
    "from multiprocessing import Pool\n",
    "\n",
    "def square(x):\n",
    "    return x * x\n",
    "\n",
    "if __name__ == \"__main__\":\n",
    "    data = [1, 2, 3, 4, 5]\n",
    "    with Pool(processes=4) as pool:  # Create a pool with 4 workers\n",
    "        results = pool.map(square, data)  # Apply the `square` function to each element\n",
    "    print(results)\n"
   ]
  },
  {
   "cell_type": "markdown",
   "metadata": {},
   "source": [
    "#### Key Methods of Pool:\n",
    "map(func, iterable): Applies a function to all elements in an iterable (like map in Python).<br>\n",
    "apply(func, args): Executes a function with the given arguments in one worker process.<br>\n",
    "apply_async(func, args): Like apply, but non-blocking; returns a multiprocessing.AsyncResult.<br>\n",
    "starmap(func, iterable): Similar to map, but expects arguments to be passed as tuples.<br>"
   ]
  },
  {
   "cell_type": "markdown",
   "metadata": {},
   "source": [
    "2. Process Synchronization\n",
    "In multiprocessing, shared resources can cause conflicts if accessed simultaneously. Synchronization primitives like Locks, Semaphores, and Events ensure safe access.\n",
    "\n",
    "#### Using a Lock\n",
    "A Lock prevents multiple processes from accessing a critical section simultaneously."
   ]
  },
  {
   "cell_type": "code",
   "execution_count": null,
   "metadata": {},
   "outputs": [],
   "source": [
    "from multiprocessing import Process, Lock\n",
    "\n",
    "def critical_section(lock, task_id):\n",
    "    with lock:  # Automatically acquires and releases the lock\n",
    "        print(f\"Task {task_id} entering critical section\")\n",
    "        print(f\"Task {task_id} leaving critical section\")\n",
    "\n",
    "if __name__ == \"__main__\":\n",
    "    lock = Lock()\n",
    "    processes = [Process(target=critical_section, args=(lock, i)) for i in range(4)]\n",
    "\n",
    "    for p in processes:\n",
    "        p.start()\n",
    "    for p in processes:\n",
    "        p.join()\n"
   ]
  },
  {
   "cell_type": "markdown",
   "metadata": {},
   "source": [
    "#### Other Synchronization Tools:\n",
    "Semaphore: Limits the number of processes that can access a resource.\n",
    "Event: Allows communication between processes by setting and clearing flags."
   ]
  },
  {
   "cell_type": "markdown",
   "metadata": {},
   "source": [
    "3. Debugging Multiprocessing Applications\n",
    "Debugging multiprocessing can be challenging because each process runs independently. Here are some tips and tools to make it easier:\n",
    "\n",
    "#### Tips:\n",
    "Log Messages: Use the logging module instead of print statements, as print output can get jumbled in multiprocessing. <br>\n",
    "Isolate Issues: Run the same code in a single process to debug logic errors.<br>\n",
    "Multiprocessing Manager: Use multiprocessing.Manager to debug shared states between processes.<br>"
   ]
  },
  {
   "cell_type": "markdown",
   "metadata": {},
   "source": [
    "4. Managing Shared States with multiprocessing.Manager  <br>\n",
    "A Manager provides a way to share Python objects like lists, dictionaries, and namespaces between processes. These objects are managed by a server process."
   ]
  },
  {
   "cell_type": "code",
   "execution_count": null,
   "metadata": {},
   "outputs": [],
   "source": [
    "from multiprocessing import Process, Manager\n",
    "\n",
    "def update_shared_list(shared_list, value):\n",
    "    shared_list.append(value)\n",
    "\n",
    "if __name__ == \"__main__\":\n",
    "    with Manager() as manager:\n",
    "        shared_list = manager.list()  # Shared list\n",
    "        processes = [Process(target=update_shared_list, args=(shared_list, i)) for i in range(5)]\n",
    "\n",
    "        for p in processes:\n",
    "            p.start()\n",
    "        for p in processes:\n",
    "            p.join()\n",
    "\n",
    "        print(\"Updated shared list:\", list(shared_list))\n"
   ]
  },
  {
   "cell_type": "markdown",
   "metadata": {},
   "source": [
    "5. Terminating Processes <br>\n",
    "Processes can be terminated prematurely using the terminate method."
   ]
  },
  {
   "cell_type": "code",
   "execution_count": null,
   "metadata": {},
   "outputs": [],
   "source": [
    "from multiprocessing import Process\n",
    "import time\n",
    "\n",
    "def infinite_loop():\n",
    "    while True:\n",
    "        print(\"Running...\")\n",
    "        time.sleep(1)\n",
    "\n",
    "if __name__ == \"__main__\":\n",
    "    p = Process(target=infinite_loop)\n",
    "    p.start()\n",
    "    time.sleep(5)  # Let the process run for 5 seconds\n",
    "    p.terminate()  # Terminate the process\n",
    "    print(\"Process terminated\")\n"
   ]
  },
  {
   "cell_type": "markdown",
   "metadata": {},
   "source": [
    "6. Handling Exceptions in Multiprocessing\n",
    "Exceptions raised in child processes do not propagate to the parent process. You can catch them by using an AsyncResult."
   ]
  },
  {
   "cell_type": "code",
   "execution_count": null,
   "metadata": {},
   "outputs": [],
   "source": [
    "from multiprocessing import Pool\n",
    "\n",
    "def divide(x, y):\n",
    "    return x / y\n",
    "\n",
    "if __name__ == \"__main__\":\n",
    "    with Pool(processes=4) as pool:\n",
    "        results = pool.apply_async(divide, args=(1, 0))\n",
    "        try:\n",
    "            print(results.get())  # This will raise a ZeroDivisionError\n",
    "        except ZeroDivisionError as e:\n",
    "            print(f\"Caught exception: {e}\")\n"
   ]
  },
  {
   "cell_type": "markdown",
   "metadata": {},
   "source": [
    "#### Summary\n",
    "The multiprocessing module is a powerful tool for parallelism in Python. <br>\n",
    "Here's what we covered:<br>\n",
    "\n",
    "Process Creation: Using multiprocessing.Process.<br>\n",
    "Inter-Process Communication: With Queues and Pipes.<br>\n",
    "Shared Memory: Using multiprocessing.Value, multiprocessing.Array, and Manager.list<br>\n",
    "Synchronization: Ensuring thread-safe operations with Locks and Semaphores.<br>\n",
    "Advanced Features: Using Pools, debugging tips, exception handling, and process termination.<br>"
   ]
  }
 ],
 "metadata": {
  "kernelspec": {
   "display_name": "venv",
   "language": "python",
   "name": "python3"
  },
  "language_info": {
   "codemirror_mode": {
    "name": "ipython",
    "version": 3
   },
   "file_extension": ".py",
   "mimetype": "text/x-python",
   "name": "python",
   "nbconvert_exporter": "python",
   "pygments_lexer": "ipython3",
   "version": "3.12.5"
  }
 },
 "nbformat": 4,
 "nbformat_minor": 2
}
