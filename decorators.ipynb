{
 "cells": [
  {
   "cell_type": "code",
   "execution_count": 23,
   "metadata": {},
   "outputs": [
    {
     "name": "stdout",
     "output_type": "stream",
     "text": [
      "good morning\n",
      "hello hii\n",
      "good evening\n"
     ]
    }
   ],
   "source": [
    "def dec(func):\n",
    "    def inner():\n",
    "        print('good morning')\n",
    "        func()\n",
    "        print('good evening')\n",
    "    return inner\n",
    "\n",
    "@dec\n",
    "def say_hello():\n",
    "    print(f'hello hii')\n",
    "\n",
    "say_hello()"
   ]
  },
  {
   "cell_type": "code",
   "execution_count": 21,
   "metadata": {},
   "outputs": [
    {
     "name": "stdout",
     "output_type": "stream",
     "text": [
      "good morning\n",
      "hii shyam\n",
      "bye\n",
      "good morning\n",
      "hii shyam\n",
      "bye\n",
      "good morning\n",
      "hii shyam\n",
      "bye\n"
     ]
    }
   ],
   "source": [
    "def deco(n):\n",
    "    def outter(func):\n",
    "        def inner(*args, **kwargs):\n",
    "            for _ in range(n):\n",
    "                print(\"good morning\")\n",
    "                func(args[0])\n",
    "                print('bye')\n",
    "        return inner\n",
    "    return outter\n",
    "\n",
    "@deco(3)\n",
    "def say_hello(name):\n",
    "    print(f\"hii {name}\")\n",
    "    \n",
    "say_hello('shyam')"
   ]
  },
  {
   "cell_type": "code",
   "execution_count": 11,
   "metadata": {},
   "outputs": [
    {
     "name": "stdout",
     "output_type": "stream",
     "text": [
      "good morning\n",
      "hii Shyam\n",
      "bye\n",
      "good morning\n",
      "hii Shyam\n",
      "bye\n",
      "good morning\n",
      "hii Shyam\n",
      "bye\n"
     ]
    }
   ],
   "source": [
    "def multiple(n):\n",
    "    def deco(func):\n",
    "        def innerfunc(*args, **kwargs):\n",
    "            for i in range(n):\n",
    "                print(\"good morning\")\n",
    "                func(*args, **kwargs)\n",
    "                print('bye')\n",
    "        return innerfunc\n",
    "    return deco\n",
    "\n",
    "@multiple(3)\n",
    "def say_hello(name):\n",
    "    print(f\"hii {name}\")\n",
    "    \n",
    "say_hello('Shyam')"
   ]
  },
  {
   "cell_type": "code",
   "execution_count": null,
   "metadata": {},
   "outputs": [],
   "source": []
  }
 ],
 "metadata": {
  "kernelspec": {
   "display_name": "venv",
   "language": "python",
   "name": "python3"
  },
  "language_info": {
   "codemirror_mode": {
    "name": "ipython",
    "version": 3
   },
   "file_extension": ".py",
   "mimetype": "text/x-python",
   "name": "python",
   "nbconvert_exporter": "python",
   "pygments_lexer": "ipython3",
   "version": "3.12.5"
  }
 },
 "nbformat": 4,
 "nbformat_minor": 2
}
