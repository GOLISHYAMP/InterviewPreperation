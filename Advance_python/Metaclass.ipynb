{
 "cells": [
  {
   "cell_type": "code",
   "execution_count": 1,
   "metadata": {},
   "outputs": [
    {
     "name": "stdout",
     "output_type": "stream",
     "text": [
      "<class 'type'>\n"
     ]
    }
   ],
   "source": [
    "class Example:\n",
    "    pass\n",
    "\n",
    "print(type(Example))"
   ]
  },
  {
   "cell_type": "markdown",
   "metadata": {},
   "source": [
    "interesting, i am getting it as type <br>\n",
    "here the type is the default metaclass of all the classes that we declare in the python"
   ]
  },
  {
   "cell_type": "code",
   "execution_count": 3,
   "metadata": {},
   "outputs": [
    {
     "name": "stdout",
     "output_type": "stream",
     "text": [
      "class name func is created\n"
     ]
    }
   ],
   "source": [
    "class Mymeta(type):\n",
    "    def __new__(cls, name, bases, dct):\n",
    "        print(f\"class name {name} is created\")\n",
    "        return super().__new__(cls, name, bases, dct)\n",
    "    \n",
    "class func(metaclass = Mymeta):\n",
    "    pass"
   ]
  },
  {
   "cell_type": "code",
   "execution_count": 6,
   "metadata": {},
   "outputs": [
    {
     "name": "stdout",
     "output_type": "stream",
     "text": [
      "class name Demo is created\n",
      "hello!!!\n",
      "Good Morning\n"
     ]
    }
   ],
   "source": [
    "class Mymeta(type):\n",
    "    def __new__(cls, name, bases, dct):\n",
    "        print(f\"class name {name} is created\")\n",
    "        dct['greet'] =  'hello!!!'\n",
    "        dct['morning'] = lambda self : 'Good Morning'\n",
    "        return super().__new__(cls, name, bases, dct)\n",
    "\n",
    "class Demo(metaclass= Mymeta):\n",
    "    pass\n",
    "\n",
    "d = Demo()\n",
    "print(d.greet)\n",
    "print(d.morning())"
   ]
  },
  {
   "cell_type": "code",
   "execution_count": 9,
   "metadata": {},
   "outputs": [],
   "source": [
    "class EnforceAttributes(type):\n",
    "    def __new__(cls, name, bases, dct):\n",
    "        if 'required_attribute' not in dct:\n",
    "            raise AttributeError(f\"Class {name} must define 'required_attribute'\")\n",
    "        return super().__new__(cls, name, bases, dct)\n",
    "\n",
    "class MyClass(metaclass=EnforceAttributes):\n",
    "    required_attribute = \"I am here\"\n",
    "    # pass\n",
    "\n",
    "# This works fine. If you remove `required_attribute`, it will raise an error.\n"
   ]
  },
  {
   "cell_type": "code",
   "execution_count": null,
   "metadata": {},
   "outputs": [],
   "source": []
  }
 ],
 "metadata": {
  "kernelspec": {
   "display_name": "venv",
   "language": "python",
   "name": "python3"
  },
  "language_info": {
   "codemirror_mode": {
    "name": "ipython",
    "version": 3
   },
   "file_extension": ".py",
   "mimetype": "text/x-python",
   "name": "python",
   "nbconvert_exporter": "python",
   "pygments_lexer": "ipython3",
   "version": "3.12.5"
  }
 },
 "nbformat": 4,
 "nbformat_minor": 2
}
