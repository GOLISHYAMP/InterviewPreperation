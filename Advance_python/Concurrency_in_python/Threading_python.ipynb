{
 "cells": [
  {
   "cell_type": "code",
   "execution_count": 3,
   "metadata": {},
   "outputs": [
    {
     "name": "stdout",
     "output_type": "stream",
     "text": [
      "func call main call  0\n",
      " 0\n",
      "main call  1\n",
      "func call  1\n",
      "main call  2\n",
      "func call  2\n",
      "main call  3\n",
      "func call  3\n",
      "main call  4\n",
      "func call  4\n"
     ]
    }
   ],
   "source": [
    "import threading\n",
    "import time\n",
    "\n",
    "def num_print(num):\n",
    "    for i in range(num):\n",
    "        print(\"func call \", i)\n",
    "        time.sleep(0.5)\n",
    "\n",
    "th = threading.Thread(target=num_print,args=(5,))\n",
    "th.start()\n",
    "\n",
    "for i in range(5):\n",
    "    print(\"main call \", i)\n",
    "    time.sleep(0.5)\n",
    "\n",
    "th.join()"
   ]
  },
  {
   "cell_type": "markdown",
   "metadata": {},
   "source": [
    "### Subclassing threading.Thread, remember when the thread.start() is run the run() inside the thread will be run."
   ]
  },
  {
   "cell_type": "code",
   "execution_count": 11,
   "metadata": {},
   "outputs": [
    {
     "name": "stdout",
     "output_type": "stream",
     "text": [
      "func call  0\n",
      "main call  0\n",
      "func call  1\n",
      "main call  1\n",
      "func call main call  2\n",
      " 2\n",
      "main call func call  3\n",
      " 3\n",
      "func call  4\n",
      "main call  4\n"
     ]
    }
   ],
   "source": [
    "class Mythread(threading.Thread):\n",
    "    def __init__(self, num):\n",
    "        super().__init__()\n",
    "        self.num = num\n",
    "\n",
    "    def run(self):\n",
    "        for i in range(self.num):\n",
    "            print(\"func call \", i)\n",
    "            time.sleep(0.5)\n",
    "\n",
    "th = Mythread(5)\n",
    "th.start()\n",
    "\n",
    "for i in range(5):\n",
    "    print(\"main call \", i)\n",
    "    time.sleep(0.5)\n",
    "th.join()"
   ]
  },
  {
   "cell_type": "code",
   "execution_count": 8,
   "metadata": {},
   "outputs": [
    {
     "name": "stdout",
     "output_type": "stream",
     "text": [
      "1\n",
      "3\n",
      "5\n",
      "7\n",
      "9\n"
     ]
    }
   ],
   "source": [
    "import threading\n",
    "def add(a, b):\n",
    "    return a+b\n",
    "\n",
    "class MT(threading.Thread):\n",
    "    def __init__(self, func, *args):\n",
    "        super().__init__()\n",
    "        self.func = func\n",
    "        self.args = args\n",
    "\n",
    "    def run(self):\n",
    "        print(self.func(*self.args))\n",
    "    \n",
    "th = [MT(add, i,i+1) for i in range(5)]\n",
    "for thread in th:\n",
    "    thread.start()\n",
    "for thread in th:\n",
    "    thread.join()"
   ]
  },
  {
   "cell_type": "markdown",
   "metadata": {},
   "source": [
    "## **Thread Synchronization**\n",
    "### When multiple threads access shared resources (e.g., a variable or a file), it can lead to data corruption or unexpected results. To prevent this, we use synchronization mechanisms like Lock or RLock."
   ]
  },
  {
   "cell_type": "markdown",
   "metadata": {},
   "source": [
    "Threading.Lock()<br>\n",
    "Threading.Event()<br>\n",
    "Threading.Semaphor(3)"
   ]
  },
  {
   "cell_type": "code",
   "execution_count": null,
   "metadata": {},
   "outputs": [
    {
     "name": "stdout",
     "output_type": "stream",
     "text": [
      "count :  200\n",
      "final counter :  1000\n"
     ]
    }
   ],
   "source": [
    "import threading\n",
    "\n",
    "counter = 0\n",
    "lock = threading.Lock()\n",
    "\n",
    "def increment():\n",
    "    global counter\n",
    "    count = 0\n",
    "    while counter < 1000:\n",
    "        with lock:\n",
    "            counter += 1    \n",
    "        count += 1\n",
    "        if counter == 1000:\n",
    "            print('count : ',count)\n",
    "            break\n",
    "        time.sleep(0.01)\n",
    "\n",
    "threads = [threading.Thread(target=increment) for _ in range(5)]\n",
    "\n",
    "for thread in threads:\n",
    "    thread.start()\n",
    "\n",
    "for thread in threads:\n",
    "    thread.join()\n",
    "\n",
    "print(\"final counter : \", counter)"
   ]
  },
  {
   "cell_type": "markdown",
   "metadata": {},
   "source": [
    "## **ThreadingEvent**\n",
    "#### event.set\n",
    "#### event.wait"
   ]
  },
  {
   "cell_type": "code",
   "execution_count": null,
   "metadata": {},
   "outputs": [
    {
     "name": "stdout",
     "output_type": "stream",
     "text": [
      "Worker: Waiting for the raw materials to arrive.\n",
      "Boss: Raw materials are ready!\n",
      "Worker: Got the materials! Starting work now.\n"
     ]
    }
   ],
   "source": [
    "import threading\n",
    "import time\n",
    "\n",
    "event = threading.Event()  # The stoplight (Event)\n",
    "\n",
    "def worker():\n",
    "    print(\"Worker: Waiting for the raw materials to arrive.\")\n",
    "    event.wait()  # Wait for the green light (event is set) If no time is given wait until it is set.\n",
    "    print(\"Worker: Got the materials! Starting work now.\")\n",
    "\n",
    "# Start the worker thread\n",
    "thread = threading.Thread(target=worker)\n",
    "thread.start()\n",
    "\n",
    "# Simulate the boss getting materials ready\n",
    "time.sleep(3)\n",
    "print(\"Boss: Raw materials are ready!\")\n",
    "event.set()  # Turn the light green (signal the worker)\n",
    "\n",
    "thread.join()  # Wait for the worker to finish\n"
   ]
  },
  {
   "cell_type": "code",
   "execution_count": null,
   "metadata": {},
   "outputs": [
    {
     "name": "stdout",
     "output_type": "stream",
     "text": [
      "Thread-0 is accessing the resource.\n",
      "Thread-1 is accessing the resource.\n",
      "Thread-2 is accessing the resource.\n",
      "Thread-0 is done.Thread-1 is done.\n",
      "Thread-2 is done.\n",
      "Thread-3 is accessing the resource.\n",
      "\n",
      "Thread-3 is done.\n"
     ]
    }
   ],
   "source": [
    "semaphore = threading.Semaphore(3)\n",
    "\n",
    "def access_resource(name):\n",
    "    with semaphore:\n",
    "        print(f\"{name} is accessing the resource.\")\n",
    "        threading.Event().wait(1)  # Simulating work\n",
    "        print(f\"{name} is done.\")\n",
    "\n",
    "threads = [threading.Thread(target=access_resource, args=(f\"Thread-{i}\",)) for i in range(4)]\n",
    "for thread in threads:\n",
    "    thread.start()\n",
    "for thread in threads:\n",
    "    thread.join()"
   ]
  },
  {
   "cell_type": "markdown",
   "metadata": {},
   "source": [
    "## Thread Communication\n",
    "### Threads can communicate using shared variables or queue."
   ]
  },
  {
   "cell_type": "markdown",
   "metadata": {},
   "source": [
    "import queue <br>\n",
    "q = queue.Queue() <br>\n",
    "q.put(i) <br>\n",
    "q.empty()<br>\n",
    "q.get()"
   ]
  },
  {
   "cell_type": "code",
   "execution_count": 37,
   "metadata": {},
   "outputs": [
    {
     "name": "stdout",
     "output_type": "stream",
     "text": [
      "Produced: 0\n",
      "Consumed: 0\n",
      "Produced: 1\n",
      "Consumed: 1Produced: 2\n",
      "\n",
      "Produced: 3\n",
      "Consumed: 2\n",
      "Produced: 4\n",
      "Consumed: 3\n",
      "Consumed: 4\n"
     ]
    }
   ],
   "source": [
    "import threading\n",
    "import queue\n",
    "\n",
    "q = queue.Queue()\n",
    "\n",
    "def producer():\n",
    "    for i in range(5):\n",
    "        q.put(i)\n",
    "        time.sleep(0.5)\n",
    "        print(f\"Produced: {i}\")\n",
    "\n",
    "def consumer():\n",
    "    while not q.empty():\n",
    "        item = q.get()\n",
    "        time.sleep(0.75)\n",
    "        print(f\"Consumed: {item}\")\n",
    "\n",
    "producer_thread = threading.Thread(target=producer)\n",
    "consumer_thread = threading.Thread(target=consumer)\n",
    "\n",
    "producer_thread.start()\n",
    "\n",
    "consumer_thread.start()\n",
    "producer_thread.join()\n",
    "consumer_thread.join()\n"
   ]
  },
  {
   "cell_type": "markdown",
   "metadata": {},
   "source": [
    "# Thread Pooling\n",
    "### Using a thread pool is efficient when managing many threads."
   ]
  },
  {
   "cell_type": "markdown",
   "metadata": {},
   "source": [
    "from concurrent.futures import ThreadPoolExecutor\n",
    "with ThreadPoolExecutor(max_workers = 2) as exe:\n",
    "exe.submit(func, arg)\n",
    "exe.result()"
   ]
  },
  {
   "cell_type": "code",
   "execution_count": null,
   "metadata": {},
   "outputs": [
    {
     "name": "stdout",
     "output_type": "stream",
     "text": [
      "Processing 0\n",
      "Processing 1\n",
      "Processing 2\n",
      "Processing 3\n",
      "Processing 4\n",
      "Processing 5\n",
      "Processing 6\n",
      "Processing 7\n",
      "Processing 8\n",
      "Processing 9\n",
      "Results: [0, 2, 4, 6, 8, 10, 12, 14, 16, 18]\n"
     ]
    }
   ],
   "source": [
    "from concurrent.futures import ThreadPoolExecutor\n",
    "import time\n",
    "\n",
    "def task(n):\n",
    "    print(f\"Processing {n}\")\n",
    "    time.sleep(2/(n+1))\n",
    "    return n * 2\n",
    "\n",
    "with ThreadPoolExecutor(max_workers=2) as executor:\n",
    "    futures = [executor.submit(task, i) for i in range(10)]\n",
    "    time.sleep(10)\n",
    "    results = [future.result() for future in futures]\n",
    "\n",
    "print(\"Results:\", results)"
   ]
  },
  {
   "cell_type": "code",
   "execution_count": 15,
   "metadata": {},
   "outputs": [
    {
     "name": "stdout",
     "output_type": "stream",
     "text": [
      "Processing 0\n",
      "Processing 1\n",
      "Processing 2\n",
      "Processing 3\n",
      "Processing 4\n",
      "Processing 5\n",
      "Processing 6\n",
      "Processing 7\n",
      "Processing 8\n",
      "Processing 9\n",
      "0 2 4 6 8 10 12 14 16 18 "
     ]
    }
   ],
   "source": [
    "from concurrent.futures import ThreadPoolExecutor\n",
    "import time\n",
    "\n",
    "def task(n):\n",
    "    print(f\"Processing {n}\")\n",
    "    time.sleep(2/(n+1))\n",
    "    return n * 2\n",
    "\n",
    "with ThreadPoolExecutor(max_workers=3) as executor:\n",
    "    # futures = [executor.submit(task, i) for i in range(10)]\n",
    "    # time.sleep(10)\n",
    "    # results = [future.result() for future in futures]\n",
    "    results = executor.map(task, range(10))\n",
    "    \n",
    "for res in results:\n",
    "    print(res, end=\" \")"
   ]
  },
  {
   "cell_type": "markdown",
   "metadata": {},
   "source": [
    "### here in above code, three threads are executed simultanously, it just made the thread creating easy, instead of thread.start here is executor.submit() and for results of that threads you get from executor.result().<br>\n",
    "### Very interesting thing here is even though the thread conpletes the first the results will be in same serial of starting the thread."
   ]
  },
  {
   "cell_type": "markdown",
   "metadata": {},
   "source": [
    "### What Can You Profile in Threads?\n",
    "Thread Execution Time: How long each thread takes to execute.<br>\n",
    "CPU and Memory Usage: The resources consumed by threads.<br>\n",
    "Thread State: Whether a thread is running, waiting, or blocked.<br>\n",
    "Deadlocks: Detecting if threads are stuck waiting for resources held by each other.<br>\n",
    "Concurrency Issues: Ensuring thread synchronization is working as intended.\n"
   ]
  },
  {
   "cell_type": "code",
   "execution_count": 3,
   "metadata": {},
   "outputs": [
    {
     "name": "stdout",
     "output_type": "stream",
     "text": [
      "         460 function calls (449 primitive calls) in 0.004 seconds\n",
      "\n",
      "   Ordered by: standard name\n",
      "\n",
      "   ncalls  tottime  percall  cumtime  percall filename:lineno(function)\n",
      "        5    0.000    0.000    0.000    0.000 4030451511.py:4(worker)\n",
      "        1    0.000    0.000    0.004    0.004 4030451511.py:8(profile_threads)\n",
      "        1    0.000    0.000    0.004    0.004 <string>:1(<module>)\n",
      "        5    0.000    0.000    0.000    0.000 _weakrefset.py:39(_remove)\n",
      "        5    0.000    0.000    0.000    0.000 _weakrefset.py:85(add)\n",
      "        5    0.000    0.000    0.000    0.000 ipkernel.py:744(run_closure)\n",
      "        5    0.000    0.000    0.000    0.000 ipkernel.py:768(init_closure)\n",
      "        5    0.000    0.000    0.000    0.000 threading.py:1001(run)\n",
      "        5    0.000    0.000    0.001    0.000 threading.py:1018(_bootstrap)\n",
      "        5    0.000    0.000    0.000    0.000 threading.py:1038(_set_ident)\n",
      "        5    0.000    0.000    0.000    0.000 threading.py:1042(_set_native_id)\n",
      "        5    0.000    0.000    0.000    0.000 threading.py:1045(_set_tstate_lock)\n",
      "        5    0.000    0.000    0.001    0.000 threading.py:1058(_bootstrap_inner)\n",
      "        5    0.000    0.000    0.000    0.000 threading.py:1081(_stop)\n",
      "        5    0.000    0.000    0.000    0.000 threading.py:1108(_delete)\n",
      "        5    0.000    0.000    0.000    0.000 threading.py:1117(join)\n",
      "        5    0.000    0.000    0.000    0.000 threading.py:1155(_wait_for_tstate_lock)\n",
      "       10    0.000    0.000    0.000    0.000 threading.py:1198(ident)\n",
      "       15    0.000    0.000    0.000    0.000 threading.py:1236(daemon)\n",
      "        5    0.000    0.000    0.000    0.000 threading.py:1356(_make_invoke_excepthook)\n",
      "       10    0.000    0.000    0.000    0.000 threading.py:1485(current_thread)\n",
      "        5    0.000    0.000    0.000    0.000 threading.py:277(__init__)\n",
      "       10    0.000    0.000    0.000    0.000 threading.py:299(__enter__)\n",
      "       10    0.000    0.000    0.000    0.000 threading.py:302(__exit__)\n",
      "        5    0.000    0.000    0.000    0.000 threading.py:308(_release_save)\n",
      "        5    0.000    0.000    0.000    0.000 threading.py:311(_acquire_restore)\n",
      "       10    0.000    0.000    0.000    0.000 threading.py:314(_is_owned)\n",
      "        5    0.000    0.000    0.002    0.000 threading.py:323(wait)\n",
      "        5    0.000    0.000    0.000    0.000 threading.py:394(notify)\n",
      "        5    0.000    0.000    0.000    0.000 threading.py:424(notify_all)\n",
      "        5    0.000    0.000    0.000    0.000 threading.py:588(__init__)\n",
      "       10    0.000    0.000    0.000    0.000 threading.py:601(is_set)\n",
      "        5    0.000    0.000    0.000    0.000 threading.py:616(set)\n",
      "        5    0.000    0.000    0.002    0.000 threading.py:637(wait)\n",
      "        5    0.000    0.000    0.000    0.000 threading.py:839(_newname)\n",
      "       10    0.000    0.000    0.000    0.000 threading.py:857(_maintain_shutdown_locks)\n",
      "        5    0.000    0.000    0.000    0.000 threading.py:884(__init__)\n",
      "        5    0.000    0.000    0.003    0.001 threading.py:975(start)\n",
      "        5    0.000    0.000    0.000    0.000 {built-in method _thread._set_sentinel}\n",
      "       10    0.000    0.000    0.000    0.000 {built-in method _thread.allocate_lock}\n",
      "       25    0.000    0.000    0.000    0.000 {built-in method _thread.get_ident}\n",
      "        5    0.000    0.000    0.000    0.000 {built-in method _thread.get_native_id}\n",
      "        5    0.001    0.000    0.001    0.000 {built-in method _thread.start_new_thread}\n",
      "      2/1    0.000    0.000    0.004    0.004 {built-in method builtins.exec}\n",
      "       15    0.000    0.000    0.000    0.000 {built-in method builtins.hasattr}\n",
      "       10    0.000    0.000    0.000    0.000 {built-in method builtins.isinstance}\n",
      "        5    0.000    0.000    0.000    0.000 {built-in method builtins.len}\n",
      "       10    0.000    0.000    0.000    0.000 {method '__enter__' of '_thread.lock' objects}\n",
      "       15    0.000    0.000    0.000    0.000 {method '__exit__' of '_thread.RLock' objects}\n",
      "       20    0.000    0.000    0.000    0.000 {method '__exit__' of '_thread.lock' objects}\n",
      "    35/25    0.001    0.000    0.002    0.000 {method 'acquire' of '_thread.lock' objects}\n",
      "       10    0.000    0.000    0.000    0.000 {method 'add' of 'set' objects}\n",
      "        5    0.000    0.000    0.000    0.000 {method 'append' of 'collections.deque' objects}\n",
      "       10    0.000    0.000    0.000    0.000 {method 'difference_update' of 'set' objects}\n",
      "        1    0.000    0.000    0.000    0.000 {method 'disable' of '_lsprof.Profiler' objects}\n",
      "        5    0.000    0.000    0.000    0.000 {method 'discard' of 'set' objects}\n",
      "       20    0.000    0.000    0.000    0.000 {method 'locked' of '_thread.lock' objects}\n",
      "       15    0.000    0.000    0.000    0.000 {method 'release' of '_thread.lock' objects}\n",
      "        5    0.000    0.000    0.000    0.000 {method 'remove' of 'collections.deque' objects}\n",
      "\n",
      "\n"
     ]
    }
   ],
   "source": [
    "import threading\n",
    "import cProfile\n",
    "\n",
    "def worker():\n",
    "    for _ in range(5):\n",
    "        _ = 1 + 1  # Simulate computation\n",
    "\n",
    "def profile_threads():\n",
    "    threads = [threading.Thread(target=worker) for _ in range(5)]\n",
    "    for thread in threads:\n",
    "        thread.start()\n",
    "    for thread in threads:\n",
    "        thread.join()\n",
    "\n",
    "cProfile.run('profile_threads()')"
   ]
  },
  {
   "cell_type": "markdown",
   "metadata": {},
   "source": [
    "**yappi**<br>\n",
    "yappi.start()<br>\n",
    "yappi.stop()<br>\n",
    "yappi.get_thread_stats().print_all()"
   ]
  },
  {
   "cell_type": "code",
   "execution_count": null,
   "metadata": {},
   "outputs": [
    {
     "name": "stdout",
     "output_type": "stream",
     "text": [
      "\n",
      "name           id     tid              ttot      scnt        \n",
      "Thread         7      32168            0.125000  2         \n",
      "_MainThread    0      30404            0.062500  21        \n",
      "Thread         6      30444            0.015625  2         \n",
      "Thread         4      33732            0.015625  2         \n",
      "Thread         12     26212            0.000000  1         \n",
      "Thread         13     32264            0.000000  1         \n",
      "Thread         1      28044            0.000000  2         \n",
      "Thread         15     31468            0.000000  1         \n",
      "Thread         2      33740            0.000000  2         \n",
      "Thread         9      33632            0.000000  1         \n",
      "..avingThread  5      17596            0.000000  3         \n",
      "Thread         14     6784             0.000000  1         \n",
      "Thread         11     30384            0.000000  1         \n",
      "Thread         10     17748            0.000000  1         \n",
      "Thread         17     33364            0.000000  1         \n",
      "Thread         16     21648            0.000000  1         \n",
      "Thread         3      6540             0.000000  2         \n",
      "Thread         8      33136            0.000000  1         \n"
     ]
    }
   ],
   "source": [
    "import threading\n",
    "import yappi\n",
    "import time\n",
    "\n",
    "def worker():\n",
    "    for _ in range(100):\n",
    "            _ = 1 + 1  # Simulate computation\n",
    "\n",
    "\n",
    "# Enable Yappi profiling\n",
    "yappi.start()\n",
    "\n",
    "threads = [threading.Thread(target=worker) for _ in range(3)]\n",
    "for thread in threads:\n",
    "    thread.start()\n",
    "for thread in threads:\n",
    "    thread.join()\n",
    "\n",
    "# Stop profiling\n",
    "yappi.stop()\n",
    "\n",
    "# Print thread-level statistics\n",
    "yappi.get_thread_stats().print_all()\n"
   ]
  },
  {
   "cell_type": "code",
   "execution_count": 10,
   "metadata": {},
   "outputs": [
    {
     "name": "stdout",
     "output_type": "stream",
     "text": [
      "This will wait for worker1 to release the lock.\n"
     ]
    }
   ],
   "source": [
    "import threading\n",
    "import faulthandler\n",
    "import time\n",
    "\n",
    "faulthandler.enable()  # Enable fault handler\n",
    "\n",
    "lock = threading.Lock()\n",
    "\n",
    "def worker1():\n",
    "    with lock:\n",
    "        time.sleep(5)  # Simulate a long operation\n",
    "\n",
    "def worker2():\n",
    "    with lock:\n",
    "        print(\"This will wait for worker1 to release the lock.\")\n",
    "\n",
    "thread1 = threading.Thread(target=worker1)\n",
    "thread2 = threading.Thread(target=worker2)\n",
    "\n",
    "thread1.start()\n",
    "thread2.start()\n",
    "\n",
    "thread1.join()\n",
    "thread2.join()\n"
   ]
  },
  {
   "cell_type": "markdown",
   "metadata": {},
   "source": [
    "##### Threading   th = Threading.Thread(func, args = (1,))  th.start()   th.join()\n",
    "##### Threading sychronization (lock, semaphor, Event) with lock, with semaphor, event.wait(), event.set()\n",
    "##### Threading communication (Queue) .get .put .empty\n",
    "##### Thread Pooling  from concurrent.futures import ThreadPoolExecutor    executor.submit()  executor.result()\n",
    "##### Thread Profiling  using yappi   yappi.start()  yappi.stop()  yappi.get_thread_stats.print_all()\n",
    "##### Thread cprofile  cprofile.run(\"startThreads\")"
   ]
  },
  {
   "cell_type": "code",
   "execution_count": null,
   "metadata": {},
   "outputs": [],
   "source": []
  }
 ],
 "metadata": {
  "kernelspec": {
   "display_name": "venv",
   "language": "python",
   "name": "python3"
  },
  "language_info": {
   "codemirror_mode": {
    "name": "ipython",
    "version": 3
   },
   "file_extension": ".py",
   "mimetype": "text/x-python",
   "name": "python",
   "nbconvert_exporter": "python",
   "pygments_lexer": "ipython3",
   "version": "3.12.5"
  }
 },
 "nbformat": 4,
 "nbformat_minor": 2
}
