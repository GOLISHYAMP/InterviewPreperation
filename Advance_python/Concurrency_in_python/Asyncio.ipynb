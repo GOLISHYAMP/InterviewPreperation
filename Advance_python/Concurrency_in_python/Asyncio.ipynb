{
 "cells": [
  {
   "cell_type": "markdown",
   "metadata": {},
   "source": [
    "# Asyncio\n",
    "As we call know, there are three types of concurrency methods in python:\n",
    "1. Threads\n",
    "2. Multiprocess\n",
    "3. Asyncio\n",
    "<ul>\n",
    "<li>Threads are useful when we want the concurrent execution with minimal CPU bound tasks.</li>\n",
    "<li>Multiprocess are useful when we want to do extensive CPU bound tasks.</li>\n",
    "<li>Asyncio is useful for mustly for waiting tasks. </li>\n",
    "</ul>\n",
    "\n",
    "Asynchronous programming allows your program to execute tasks concurrently without waiting for long-running tasks to complete. This is especially useful for I/O-bound operations like network requests, file I/O, and database interactions.\n",
    "\n",
    "Python provides the asyncio module as the primary framework for asynchronous programming."
   ]
  },
  {
   "cell_type": "markdown",
   "metadata": {},
   "source": [
    "1. Asyncio Basics\n",
    "#### Event Loop\n",
    "The event loop is the core of asyncio. It runs asynchronous tasks and callbacks, schedules execution, and handles I/O events.<br>\n",
    "<ul>\n",
    "<li>The event loop runs until all tasks are complete.<br>\n",
    "<li>It is responsible for switching between tasks when they are waiting for I/O or sleeping.<br>"
   ]
  },
  {
   "cell_type": "code",
   "execution_count": 1,
   "metadata": {},
   "outputs": [
    {
     "ename": "RuntimeError",
     "evalue": "asyncio.run() cannot be called from a running event loop",
     "output_type": "error",
     "traceback": [
      "\u001b[1;31m---------------------------------------------------------------------------\u001b[0m",
      "\u001b[1;31mRuntimeError\u001b[0m                              Traceback (most recent call last)",
      "Cell \u001b[1;32mIn[1], line 11\u001b[0m\n\u001b[0;32m      8\u001b[0m \u001b[38;5;28;01masync\u001b[39;00m \u001b[38;5;28;01mdef\u001b[39;00m \u001b[38;5;21mmain\u001b[39m():\n\u001b[0;32m      9\u001b[0m     \u001b[38;5;28;01mawait\u001b[39;00m say_hello()\n\u001b[1;32m---> 11\u001b[0m \u001b[43masyncio\u001b[49m\u001b[38;5;241;43m.\u001b[39;49m\u001b[43mrun\u001b[49m\u001b[43m(\u001b[49m\u001b[43msay_hello\u001b[49m\u001b[43m(\u001b[49m\u001b[43m)\u001b[49m\u001b[43m)\u001b[49m  \u001b[38;5;66;03m# This makes sure that the main coroutine is awaited.\u001b[39;00m\n",
      "File \u001b[1;32m~\\AppData\\Local\\Programs\\Python\\Python312\\Lib\\asyncio\\runners.py:190\u001b[0m, in \u001b[0;36mrun\u001b[1;34m(main, debug, loop_factory)\u001b[0m\n\u001b[0;32m    161\u001b[0m \u001b[38;5;250m\u001b[39m\u001b[38;5;124;03m\"\"\"Execute the coroutine and return the result.\u001b[39;00m\n\u001b[0;32m    162\u001b[0m \n\u001b[0;32m    163\u001b[0m \u001b[38;5;124;03mThis function runs the passed coroutine, taking care of\u001b[39;00m\n\u001b[1;32m   (...)\u001b[0m\n\u001b[0;32m    186\u001b[0m \u001b[38;5;124;03m    asyncio.run(main())\u001b[39;00m\n\u001b[0;32m    187\u001b[0m \u001b[38;5;124;03m\"\"\"\u001b[39;00m\n\u001b[0;32m    188\u001b[0m \u001b[38;5;28;01mif\u001b[39;00m events\u001b[38;5;241m.\u001b[39m_get_running_loop() \u001b[38;5;129;01mis\u001b[39;00m \u001b[38;5;129;01mnot\u001b[39;00m \u001b[38;5;28;01mNone\u001b[39;00m:\n\u001b[0;32m    189\u001b[0m     \u001b[38;5;66;03m# fail fast with short traceback\u001b[39;00m\n\u001b[1;32m--> 190\u001b[0m     \u001b[38;5;28;01mraise\u001b[39;00m \u001b[38;5;167;01mRuntimeError\u001b[39;00m(\n\u001b[0;32m    191\u001b[0m         \u001b[38;5;124m\"\u001b[39m\u001b[38;5;124masyncio.run() cannot be called from a running event loop\u001b[39m\u001b[38;5;124m\"\u001b[39m)\n\u001b[0;32m    193\u001b[0m \u001b[38;5;28;01mwith\u001b[39;00m Runner(debug\u001b[38;5;241m=\u001b[39mdebug, loop_factory\u001b[38;5;241m=\u001b[39mloop_factory) \u001b[38;5;28;01mas\u001b[39;00m runner:\n\u001b[0;32m    194\u001b[0m     \u001b[38;5;28;01mreturn\u001b[39;00m runner\u001b[38;5;241m.\u001b[39mrun(main)\n",
      "\u001b[1;31mRuntimeError\u001b[0m: asyncio.run() cannot be called from a running event loop"
     ]
    }
   ],
   "source": [
    "import asyncio\n",
    "\n",
    "async def say_hello():\n",
    "    print(\"Hello!\")\n",
    "    await asyncio.sleep(1)\n",
    "    print(\"World!\")\n",
    "\n",
    "async def main():\n",
    "    await say_hello()\n",
    "\n",
    "asyncio.run(say_hello())  # This makes sure that the main coroutine is awaited.\n"
   ]
  },
  {
   "cell_type": "markdown",
   "metadata": {},
   "source": [
    "#### Coroutines\n",
    "A coroutine is a function declared with async def. It can pause execution using await, allowing other tasks to run."
   ]
  },
  {
   "cell_type": "code",
   "execution_count": 2,
   "metadata": {},
   "outputs": [
    {
     "ename": "RuntimeError",
     "evalue": "asyncio.run() cannot be called from a running event loop",
     "output_type": "error",
     "traceback": [
      "\u001b[1;31m---------------------------------------------------------------------------\u001b[0m",
      "\u001b[1;31mRuntimeError\u001b[0m                              Traceback (most recent call last)",
      "Cell \u001b[1;32mIn[2], line 7\u001b[0m\n\u001b[0;32m      4\u001b[0m     \u001b[38;5;28;01mawait\u001b[39;00m asyncio\u001b[38;5;241m.\u001b[39msleep(\u001b[38;5;241m1\u001b[39m)    \u001b[38;5;66;03m# await will stop the coroutine, to wait for other tasks to complete\u001b[39;00m\n\u001b[0;32m      5\u001b[0m     \u001b[38;5;28mprint\u001b[39m(\u001b[38;5;124m\"\u001b[39m\u001b[38;5;124mDone waiting\u001b[39m\u001b[38;5;124m\"\u001b[39m)\n\u001b[1;32m----> 7\u001b[0m \u001b[43masyncio\u001b[49m\u001b[38;5;241;43m.\u001b[39;49m\u001b[43mrun\u001b[49m\u001b[43m(\u001b[49m\u001b[43mmain\u001b[49m\u001b[43m(\u001b[49m\u001b[43m)\u001b[49m\u001b[43m)\u001b[49m \u001b[38;5;66;03m# This awaiting the main() coroutine\u001b[39;00m\n",
      "File \u001b[1;32m~\\AppData\\Local\\Programs\\Python\\Python312\\Lib\\asyncio\\runners.py:190\u001b[0m, in \u001b[0;36mrun\u001b[1;34m(main, debug, loop_factory)\u001b[0m\n\u001b[0;32m    161\u001b[0m \u001b[38;5;250m\u001b[39m\u001b[38;5;124;03m\"\"\"Execute the coroutine and return the result.\u001b[39;00m\n\u001b[0;32m    162\u001b[0m \n\u001b[0;32m    163\u001b[0m \u001b[38;5;124;03mThis function runs the passed coroutine, taking care of\u001b[39;00m\n\u001b[1;32m   (...)\u001b[0m\n\u001b[0;32m    186\u001b[0m \u001b[38;5;124;03m    asyncio.run(main())\u001b[39;00m\n\u001b[0;32m    187\u001b[0m \u001b[38;5;124;03m\"\"\"\u001b[39;00m\n\u001b[0;32m    188\u001b[0m \u001b[38;5;28;01mif\u001b[39;00m events\u001b[38;5;241m.\u001b[39m_get_running_loop() \u001b[38;5;129;01mis\u001b[39;00m \u001b[38;5;129;01mnot\u001b[39;00m \u001b[38;5;28;01mNone\u001b[39;00m:\n\u001b[0;32m    189\u001b[0m     \u001b[38;5;66;03m# fail fast with short traceback\u001b[39;00m\n\u001b[1;32m--> 190\u001b[0m     \u001b[38;5;28;01mraise\u001b[39;00m \u001b[38;5;167;01mRuntimeError\u001b[39;00m(\n\u001b[0;32m    191\u001b[0m         \u001b[38;5;124m\"\u001b[39m\u001b[38;5;124masyncio.run() cannot be called from a running event loop\u001b[39m\u001b[38;5;124m\"\u001b[39m)\n\u001b[0;32m    193\u001b[0m \u001b[38;5;28;01mwith\u001b[39;00m Runner(debug\u001b[38;5;241m=\u001b[39mdebug, loop_factory\u001b[38;5;241m=\u001b[39mloop_factory) \u001b[38;5;28;01mas\u001b[39;00m runner:\n\u001b[0;32m    194\u001b[0m     \u001b[38;5;28;01mreturn\u001b[39;00m runner\u001b[38;5;241m.\u001b[39mrun(main)\n",
      "\u001b[1;31mRuntimeError\u001b[0m: asyncio.run() cannot be called from a running event loop"
     ]
    }
   ],
   "source": [
    "import asyncio\n",
    "async def main():  # using the keyword async def coroutine is defined\n",
    "    print(\"hello\")\n",
    "    await asyncio.sleep(1)    # await will stop the coroutine, to wait for other tasks to complete\n",
    "    print(\"Done waiting\")\n",
    "    \n",
    "asyncio.run(main()) # This awaiting the main() coroutine"
   ]
  },
  {
   "cell_type": "markdown",
   "metadata": {},
   "source": [
    "2. Tasks and Futures\n",
    "#### Tasks\n",
    "A task is a wrapper for a coroutine that runs it in the event loop. Tasks allow multiple coroutines to run concurrently.\n",
    "\n",
    "Use asyncio.create_task() to schedule a coroutine as a task."
   ]
  },
  {
   "cell_type": "code",
   "execution_count": 10,
   "metadata": {},
   "outputs": [
    {
     "name": "stdout",
     "output_type": "stream",
     "text": [
      "0 started\n",
      "1 started\n",
      "2 started\n",
      "3 started\n",
      "3 done\n",
      "2 done\n",
      "1 done\n",
      "0 done\n",
      "time took :  1.0147268772125244\n",
      "main task executing\n"
     ]
    }
   ],
   "source": [
    "import time\n",
    "async def main(pr, wp):\n",
    "    print(pr,'started')\n",
    "    await asyncio.sleep(wp)\n",
    "    print(pr, 'done')\n",
    "li = []\n",
    "for i in range(4):\n",
    "    li.append(asyncio.create_task(main(i, 1/(i+1))))\n",
    "start = time.time()\n",
    "for i in range(4):\n",
    "    await li[i]\n",
    "end = time.time() -start\n",
    "print('time took : ', end)\n",
    "print('main task executing')"
   ]
  },
  {
   "cell_type": "code",
   "execution_count": null,
   "metadata": {},
   "outputs": [],
   "source": [
    "async def func(id, sleep_time):\n",
    "    print(f\"coroutine {id} executing\")\n",
    "    await asyncio.sleep(sleep_time)\n",
    "    print(f'coroutine {id} done')\n",
    "\n",
    "async def main():\n",
    "    task1 = asyncio.create_task(func(1, 1))\n",
    "    task2 = asyncio.create_task(func(2, 3))\n",
    "    task3 = asyncio.create_task(func(3, 2))\n",
    "    await task1\n",
    "    await task2\n",
    "    await task3\n",
    "\n",
    "start = time.time()\n",
    "asyncio.run(main())\n",
    "print(time.time() - start)\n",
    "print(\"All tasks are done\")\n"
   ]
  },
  {
   "cell_type": "code",
   "execution_count": null,
   "metadata": {},
   "outputs": [],
   "source": [
    "# Problem here is multiple create_task statements to be needed\n",
    "async def func(id, sleep_time):\n",
    "    print(f\"coroutine {id} executing\")\n",
    "    await asyncio.sleep(sleep_time)\n",
    "    print(f'coroutine {id} done')\n",
    "    return f\"result of {id}\"\n",
    "\n",
    "async def main():\n",
    "    results = await asyncio.gather(func(1,2), func(2,3), func(3,1))\n",
    "\n",
    "    for result in results:\n",
    "        print(f'Received Results : ', result) \n",
    "\n",
    "asyncio.run(main())"
   ]
  },
  {
   "cell_type": "markdown",
   "metadata": {},
   "source": [
    "### Futures\n",
    "A Future is a low-level object representing the result of an operation that hasn’t completed yet.\n",
    "\n",
    "Coroutines automatically return Futures.\n",
    "Use asyncio.Future if you need fine-grained control."
   ]
  },
  {
   "cell_type": "code",
   "execution_count": null,
   "metadata": {},
   "outputs": [],
   "source": [
    "async def set_future_value(fut):\n",
    "    await asyncio.sleep(2)\n",
    "    fut.set_result(\"Future is done!\")\n",
    "\n",
    "async def main():\n",
    "    fut = asyncio.Future()\n",
    "    asyncio.create_task(set_future_value(fut))\n",
    "    print(await fut)\n",
    "\n",
    "asyncio.run(main())\n"
   ]
  }
 ],
 "metadata": {
  "kernelspec": {
   "display_name": "venv",
   "language": "python",
   "name": "python3"
  },
  "language_info": {
   "codemirror_mode": {
    "name": "ipython",
    "version": 3
   },
   "file_extension": ".py",
   "mimetype": "text/x-python",
   "name": "python",
   "nbconvert_exporter": "python",
   "pygments_lexer": "ipython3",
   "version": "3.12.5"
  }
 },
 "nbformat": 4,
 "nbformat_minor": 2
}
