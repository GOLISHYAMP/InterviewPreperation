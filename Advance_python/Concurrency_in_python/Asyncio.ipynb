{
 "cells": [
  {
   "cell_type": "markdown",
   "metadata": {},
   "source": [
    "# Asyncio\n",
    "As we call know, there are three types of concurrency methods in python:\n",
    "1. Threads\n",
    "2. Multiprocess\n",
    "3. Asyncio\n",
    "<ul>\n",
    "<li>Threads are useful when we want the concurrent execution with minimal CPU bound tasks.</li>\n",
    "<li>Multiprocess are useful when we want to do extensive CPU bound tasks.</li>\n",
    "<li>Asyncio is useful for mustly for waiting tasks. </li>\n",
    "</ul>\n",
    "\n",
    "Asynchronous programming allows your program to execute tasks concurrently without waiting for long-running tasks to complete. This is especially useful for I/O-bound operations like network requests, file I/O, and database interactions.\n",
    "\n",
    "Python provides the asyncio module as the primary framework for asynchronous programming."
   ]
  },
  {
   "cell_type": "markdown",
   "metadata": {},
   "source": [
    "1. Asyncio Basics\n",
    "#### Event Loop\n",
    "The event loop is the core of asyncio. It runs asynchronous tasks and callbacks, schedules execution, and handles I/O events.<br>\n",
    "<ul>\n",
    "<li>The event loop runs until all tasks are complete.<br>\n",
    "<li>It is responsible for switching between tasks when they are waiting for I/O or sleeping.<br>"
   ]
  },
  {
   "cell_type": "code",
   "execution_count": null,
   "metadata": {},
   "outputs": [],
   "source": [
    "import asyncio\n",
    "\n",
    "async def say_hello():\n",
    "    print(\"Hello!\")\n",
    "    await asyncio.sleep(1)\n",
    "    print(\"World!\")\n",
    "\n",
    "async def main():\n",
    "    await say_hello()\n",
    "\n",
    "asyncio.run(say_hello())  # This makes sure that the main coroutine is awaited.\n"
   ]
  },
  {
   "cell_type": "markdown",
   "metadata": {},
   "source": [
    "#### Coroutines\n",
    "A coroutine is a function declared with async def. It can pause execution using await, allowing other tasks to run."
   ]
  },
  {
   "cell_type": "code",
   "execution_count": null,
   "metadata": {},
   "outputs": [],
   "source": [
    "async def main():  # using the keyword async def coroutine is defined\n",
    "    print(\"hello\")\n",
    "    await asyncio.sleep(1)    # await will stop the coroutine, to wait for other tasks to complete\n",
    "    print(\"Done waiting\")\n",
    "\n",
    "asyncio.run(main()) # This awaiting the main() coroutine"
   ]
  },
  {
   "cell_type": "markdown",
   "metadata": {},
   "source": [
    "2. Tasks and Futures\n",
    "#### Tasks\n",
    "A task is a wrapper for a coroutine that runs it in the event loop. Tasks allow multiple coroutines to run concurrently.\n",
    "\n",
    "Use asyncio.create_task() to schedule a coroutine as a task."
   ]
  },
  {
   "cell_type": "code",
   "execution_count": 10,
   "metadata": {},
   "outputs": [
    {
     "name": "stdout",
     "output_type": "stream",
     "text": [
      "0 started\n",
      "1 started\n",
      "2 started\n",
      "3 started\n",
      "3 done\n",
      "2 done\n",
      "1 done\n",
      "0 done\n",
      "time took :  1.0147268772125244\n",
      "main task executing\n"
     ]
    }
   ],
   "source": [
    "import time\n",
    "async def main(pr, wp):\n",
    "    print(pr,'started')\n",
    "    await asyncio.sleep(wp)\n",
    "    print(pr, 'done')\n",
    "li = []\n",
    "for i in range(4):\n",
    "    li.append(asyncio.create_task(main(i, 1/(i+1))))\n",
    "start = time.time()\n",
    "for i in range(4):\n",
    "    await li[i]\n",
    "end = time.time() -start\n",
    "print('time took : ', end)\n",
    "print('main task executing')"
   ]
  },
  {
   "cell_type": "code",
   "execution_count": null,
   "metadata": {},
   "outputs": [],
   "source": [
    "async def func(id, sleep_time):\n",
    "    print(f\"coroutine {id} executing\")\n",
    "    await asyncio.sleep(sleep_time)\n",
    "    print(f'coroutine {id} done')\n",
    "\n",
    "async def main():\n",
    "    task1 = asyncio.create_task(func(1, 1))\n",
    "    task2 = asyncio.create_task(func(2, 3))\n",
    "    task3 = asyncio.create_task(func(3, 2))\n",
    "    await task1\n",
    "    await task2\n",
    "    await task3\n",
    "\n",
    "start = time.time()\n",
    "asyncio.run(main())\n",
    "print(time.time() - start)\n",
    "print(\"All tasks are done\")\n"
   ]
  },
  {
   "cell_type": "code",
   "execution_count": null,
   "metadata": {},
   "outputs": [],
   "source": [
    "# Problem here is multiple create_task statements to be needed\n",
    "async def func(id, sleep_time):\n",
    "    print(f\"coroutine {id} executing\")\n",
    "    await asyncio.sleep(sleep_time)\n",
    "    print(f'coroutine {id} done')\n",
    "    return f\"result of {id}\"\n",
    "\n",
    "async def main():\n",
    "    results = await asyncio.gather(func(1,2), func(2,3), func(3,1))\n",
    "\n",
    "    for result in results:\n",
    "        print(f'Received Results : ', result) \n",
    "\n",
    "asyncio.run(main())"
   ]
  },
  {
   "cell_type": "markdown",
   "metadata": {},
   "source": [
    "### Futures\n",
    "A Future is a low-level object representing the result of an operation that hasn’t completed yet.\n",
    "\n",
    "Coroutines automatically return Futures.\n",
    "Use asyncio.Future if you need fine-grained control."
   ]
  },
  {
   "cell_type": "code",
   "execution_count": null,
   "metadata": {},
   "outputs": [],
   "source": [
    "async def set_future_value(fut):\n",
    "    await asyncio.sleep(2)\n",
    "    fut.set_result(\"Future is done!\")\n",
    "\n",
    "async def main():\n",
    "    fut = asyncio.Future()\n",
    "    asyncio.create_task(set_future_value(fut))\n",
    "    print(await fut)\n",
    "\n",
    "asyncio.run(main())\n"
   ]
  }
 ],
 "metadata": {
  "kernelspec": {
   "display_name": "venv",
   "language": "python",
   "name": "python3"
  },
  "language_info": {
   "codemirror_mode": {
    "name": "ipython",
    "version": 3
   },
   "file_extension": ".py",
   "mimetype": "text/x-python",
   "name": "python",
   "nbconvert_exporter": "python",
   "pygments_lexer": "ipython3",
   "version": "3.12.5"
  }
 },
 "nbformat": 4,
 "nbformat_minor": 2
}
