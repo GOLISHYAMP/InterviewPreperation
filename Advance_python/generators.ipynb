{
 "cells": [
  {
   "cell_type": "code",
   "execution_count": 18,
   "metadata": {},
   "outputs": [
    {
     "name": "stdout",
     "output_type": "stream",
     "text": [
      "136\n",
      "48\n"
     ]
    }
   ],
   "source": [
    "import sys\n",
    "\n",
    "li = [1, 2, 3, 4, 5, 6, 7, 8, 9, 10]\n",
    "# for i in li:\n",
    "#     print(i)\n",
    "print(sys.getsizeof(li))\n",
    "\n",
    "# for i in range(1, 11):\n",
    "#     print(i)\n",
    "\n",
    "print(sys.getsizeof(range(1,11)))\n"
   ]
  },
  {
   "cell_type": "code",
   "execution_count": 26,
   "metadata": {},
   "outputs": [
    {
     "name": "stdout",
     "output_type": "stream",
     "text": [
      "48\n",
      "184\n"
     ]
    }
   ],
   "source": [
    "y = map(lambda x : x**2, range(1, 11))\n",
    "print(sys.getsizeof(y))\n",
    "# for i in y:\n",
    "#     print(i)\n",
    "print(sys.getsizeof(list(y)))"
   ]
  },
  {
   "cell_type": "code",
   "execution_count": 28,
   "metadata": {},
   "outputs": [
    {
     "data": {
      "text/plain": [
       "[1, 4, 9, 16, 25, 36, 49, 64, 81, 100]"
      ]
     },
     "execution_count": 28,
     "metadata": {},
     "output_type": "execute_result"
    }
   ],
   "source": [
    "y = map(lambda x : x**2, range(1, 11))\n",
    "list(y)"
   ]
  },
  {
   "cell_type": "code",
   "execution_count": 30,
   "metadata": {},
   "outputs": [
    {
     "data": {
      "text/plain": [
       "[]"
      ]
     },
     "execution_count": 30,
     "metadata": {},
     "output_type": "execute_result"
    }
   ],
   "source": [
    "list(y)"
   ]
  },
  {
   "cell_type": "code",
   "execution_count": 31,
   "metadata": {},
   "outputs": [
    {
     "data": {
      "text/plain": [
       "[1, 2, 3, 4, 5, 6, 7, 8, 9, 10]"
      ]
     },
     "execution_count": 31,
     "metadata": {},
     "output_type": "execute_result"
    }
   ],
   "source": [
    "list(range(1,11))"
   ]
  },
  {
   "cell_type": "code",
   "execution_count": 85,
   "metadata": {},
   "outputs": [],
   "source": [
    "y = map(lambda x : x**2, range(1,10000000000000000000000))"
   ]
  },
  {
   "cell_type": "code",
   "execution_count": 122,
   "metadata": {},
   "outputs": [
    {
     "data": {
      "text/plain": [
       "1369"
      ]
     },
     "execution_count": 122,
     "metadata": {},
     "output_type": "execute_result"
    }
   ],
   "source": [
    "next(y)"
   ]
  },
  {
   "cell_type": "code",
   "execution_count": null,
   "metadata": {},
   "outputs": [
    {
     "name": "stdout",
     "output_type": "stream",
     "text": [
      "85176\n"
     ]
    }
   ],
   "source": [
    "li = [x**x for x in range(1,10000)]\n",
    "\n",
    "print(sys.getsizeof(li))"
   ]
  },
  {
   "cell_type": "code",
   "execution_count": 125,
   "metadata": {},
   "outputs": [
    {
     "name": "stdout",
     "output_type": "stream",
     "text": [
      "1\n",
      "4\n",
      "9\n",
      "16\n",
      "25\n",
      "36\n",
      "49\n",
      "64\n",
      "81\n",
      "100\n",
      "Done\n"
     ]
    }
   ],
   "source": [
    "y = map(lambda x : x**2, range(1, 11))\n",
    "\n",
    "while True:\n",
    "    try:\n",
    "        print(next(y))\n",
    "    except StopIteration:\n",
    "        print(\"Done\")\n",
    "        break"
   ]
  },
  {
   "cell_type": "code",
   "execution_count": 126,
   "metadata": {},
   "outputs": [
    {
     "ename": "TypeError",
     "evalue": "'range' object is not an iterator",
     "output_type": "error",
     "traceback": [
      "\u001b[1;31m---------------------------------------------------------------------------\u001b[0m",
      "\u001b[1;31mTypeError\u001b[0m                                 Traceback (most recent call last)",
      "Cell \u001b[1;32mIn[126], line 2\u001b[0m\n\u001b[0;32m      1\u001b[0m y \u001b[38;5;241m=\u001b[39m \u001b[38;5;28mrange\u001b[39m(\u001b[38;5;241m1\u001b[39m, \u001b[38;5;241m11\u001b[39m)\n\u001b[1;32m----> 2\u001b[0m \u001b[38;5;28mprint\u001b[39m(\u001b[38;5;28;43mnext\u001b[39;49m\u001b[43m(\u001b[49m\u001b[43my\u001b[49m\u001b[43m)\u001b[49m)\n",
      "\u001b[1;31mTypeError\u001b[0m: 'range' object is not an iterator"
     ]
    }
   ],
   "source": [
    "y = range(1, 11)\n",
    "print(next(y))"
   ]
  },
  {
   "cell_type": "code",
   "execution_count": 138,
   "metadata": {},
   "outputs": [
    {
     "name": "stdout",
     "output_type": "stream",
     "text": [
      "1\n"
     ]
    }
   ],
   "source": [
    "# iter function will return the iteration object to iter\n",
    "y = iter(range(1, 11))\n",
    "print(next(y))"
   ]
  },
  {
   "cell_type": "markdown",
   "metadata": {},
   "source": [
    "#### So, lets discuss the whole thing of iterator, Create it from scratch"
   ]
  },
  {
   "cell_type": "code",
   "execution_count": 161,
   "metadata": {},
   "outputs": [],
   "source": [
    "class Iter:\n",
    "    def __init__(self, start, stop):\n",
    "        self.start = start\n",
    "        self.stop = stop\n",
    "\n",
    "    def __iter__(self):\n",
    "        self.current = self.start-1\n",
    "        return self\n",
    "    \n",
    "    def __next__(self):\n",
    "        self.current += 1\n",
    "        if self.current >= self.stop:\n",
    "            raise StopIteration\n",
    "        return self.current"
   ]
  },
  {
   "cell_type": "code",
   "execution_count": 163,
   "metadata": {},
   "outputs": [
    {
     "data": {
      "text/plain": [
       "1"
      ]
     },
     "execution_count": 163,
     "metadata": {},
     "output_type": "execute_result"
    }
   ],
   "source": [
    "# y = Iter(1, 11)\n",
    "itr = iter(Iter(1,11))\n",
    "next(itr)"
   ]
  },
  {
   "cell_type": "code",
   "execution_count": 173,
   "metadata": {},
   "outputs": [
    {
     "ename": "StopIteration",
     "evalue": "",
     "output_type": "error",
     "traceback": [
      "\u001b[1;31m---------------------------------------------------------------------------\u001b[0m",
      "\u001b[1;31mStopIteration\u001b[0m                             Traceback (most recent call last)",
      "Cell \u001b[1;32mIn[173], line 1\u001b[0m\n\u001b[1;32m----> 1\u001b[0m \u001b[38;5;28;43mnext\u001b[39;49m\u001b[43m(\u001b[49m\u001b[43mitr\u001b[49m\u001b[43m)\u001b[49m\n",
      "Cell \u001b[1;32mIn[161], line 13\u001b[0m, in \u001b[0;36mIter.__next__\u001b[1;34m(self)\u001b[0m\n\u001b[0;32m     11\u001b[0m \u001b[38;5;28mself\u001b[39m\u001b[38;5;241m.\u001b[39mcurrent \u001b[38;5;241m+\u001b[39m\u001b[38;5;241m=\u001b[39m \u001b[38;5;241m1\u001b[39m\n\u001b[0;32m     12\u001b[0m \u001b[38;5;28;01mif\u001b[39;00m \u001b[38;5;28mself\u001b[39m\u001b[38;5;241m.\u001b[39mcurrent \u001b[38;5;241m>\u001b[39m\u001b[38;5;241m=\u001b[39m \u001b[38;5;28mself\u001b[39m\u001b[38;5;241m.\u001b[39mstop:\n\u001b[1;32m---> 13\u001b[0m     \u001b[38;5;28;01mraise\u001b[39;00m \u001b[38;5;167;01mStopIteration\u001b[39;00m\n\u001b[0;32m     14\u001b[0m \u001b[38;5;28;01mreturn\u001b[39;00m \u001b[38;5;28mself\u001b[39m\u001b[38;5;241m.\u001b[39mcurrent\n",
      "\u001b[1;31mStopIteration\u001b[0m: "
     ]
    }
   ],
   "source": [
    "next(itr)"
   ]
  },
  {
   "cell_type": "code",
   "execution_count": 181,
   "metadata": {},
   "outputs": [
    {
     "data": {
      "text/plain": [
       "1"
      ]
     },
     "execution_count": 181,
     "metadata": {},
     "output_type": "execute_result"
    }
   ],
   "source": [
    "# li = [1,2,3,4,5]\n",
    "li = range(1,11)\n",
    "itr = iter(li)\n",
    "next(itr)"
   ]
  },
  {
   "cell_type": "code",
   "execution_count": 191,
   "metadata": {},
   "outputs": [
    {
     "ename": "StopIteration",
     "evalue": "",
     "output_type": "error",
     "traceback": [
      "\u001b[1;31m---------------------------------------------------------------------------\u001b[0m",
      "\u001b[1;31mStopIteration\u001b[0m                             Traceback (most recent call last)",
      "Cell \u001b[1;32mIn[191], line 1\u001b[0m\n\u001b[1;32m----> 1\u001b[0m \u001b[38;5;28;43mnext\u001b[39;49m\u001b[43m(\u001b[49m\u001b[43mitr\u001b[49m\u001b[43m)\u001b[49m\n",
      "\u001b[1;31mStopIteration\u001b[0m: "
     ]
    }
   ],
   "source": [
    "next(itr)\n"
   ]
  },
  {
   "cell_type": "code",
   "execution_count": 193,
   "metadata": {},
   "outputs": [
    {
     "data": {
      "text/plain": [
       "1"
      ]
     },
     "execution_count": 193,
     "metadata": {},
     "output_type": "execute_result"
    }
   ],
   "source": [
    "y = map(lambda x : x**2, range(1,11))\n",
    "next(y)"
   ]
  },
  {
   "cell_type": "code",
   "execution_count": 195,
   "metadata": {},
   "outputs": [
    {
     "data": {
      "text/plain": [
       "9"
      ]
     },
     "execution_count": 195,
     "metadata": {},
     "output_type": "execute_result"
    }
   ],
   "source": [
    "next(y)"
   ]
  },
  {
   "cell_type": "markdown",
   "metadata": {},
   "source": [
    "# Generators"
   ]
  },
  {
   "cell_type": "code",
   "execution_count": null,
   "metadata": {},
   "outputs": [
    {
     "name": "stdout",
     "output_type": "stream",
     "text": [
      "0\n",
      "1\n",
      "2\n",
      "3\n",
      "4\n"
     ]
    }
   ],
   "source": [
    "def gen(n):\n",
    "    for i in range(n):\n",
    "        yield i\n",
    "\n",
    "for i in gen(5):\n",
    "    print(i) \n",
    "    "
   ]
  },
  {
   "cell_type": "code",
   "execution_count": 206,
   "metadata": {},
   "outputs": [],
   "source": [
    "import time\n",
    "def gen():\n",
    "    yield 1\n",
    "    print('pause 1')\n",
    "    yield 2\n",
    "    print('pause 2')\n",
    "    yield 3\n",
    "    print('pause 3')\n",
    "    yield 4\n",
    "    print('pause 4')\n",
    "    yield 5\n",
    "    print('pause 5')\n",
    "    "
   ]
  },
  {
   "cell_type": "code",
   "execution_count": 208,
   "metadata": {},
   "outputs": [
    {
     "name": "stdout",
     "output_type": "stream",
     "text": [
      "1\n",
      "pause 1\n",
      "2\n",
      "pause 2\n",
      "3\n",
      "pause 3\n",
      "4\n",
      "pause 4\n",
      "5\n"
     ]
    }
   ],
   "source": [
    "itr = gen()\n",
    "print(next(itr))\n",
    "time.sleep(1)\n",
    "print(next(itr))\n",
    "time.sleep(1)\n",
    "print(next(itr))\n",
    "time.sleep(1)\n",
    "print(next(itr))\n",
    "time.sleep(1)\n",
    "print(next(itr))"
   ]
  },
  {
   "cell_type": "markdown",
   "metadata": {},
   "source": [
    "#### Generators are useful to read very very large files"
   ]
  },
  {
   "cell_type": "code",
   "execution_count": 216,
   "metadata": {},
   "outputs": [
    {
     "name": "stdout",
     "output_type": "stream",
     "text": [
      "In the ever-evolving landscape of digital content creation, efficiency and creativity are paramount. Whether youâ€™re a blogger, marketer, student, or entrepreneur, generating lengthy, compelling text can be a daunting task. Enter the Long Text Generator an innovative tool designed to streamline the process of creating extensive textual content with ease and efficiency.\n",
      "\n",
      "\n",
      "\n",
      "What is a Long Text Generator?\n",
      "\n",
      "A Long Text Generator is an AI-powered tool that automates the generation of lengthy pieces of text based on user input. By utilizing advanced algorithms and natural language processing (NLP) techniques, these generators can produce coherent and contextually relevant content on a wide range of topics. This technology marks a significant leap forward in content creation, offering a solution to the time-consuming nature of writing comprehensive articles, essays, product descriptions, and more.\n",
      "\n",
      "\n",
      "\n",
      "How Does a Long Text Generator Work?\n",
      "\n",
      "Long Text Generators operate by analyzing input provided by the user, such as keywords, prompts, or specific instructions. The algorithm then processes this information to generate paragraphs or even entire articles that mimic human-written content in style and structure. This process involves understanding context, grammar rules, and semantic relationships to ensure the output is coherent and meaningful.\n",
      "\n",
      "\n",
      "\n",
      "Key Features of Long Text Generators\n",
      "\n",
      "Customization: Users can tailor the generated text by adjusting parameters like tone, style, and word count to fit their specific requirements.\n",
      "\n",
      "Speed: Instantly produces large volumes of text, saving significant time compared to traditional manual writing.\n",
      "\n",
      "Quality: Generates content that is grammatically correct, contextually relevant, and suitable for various purposes, maintaining high readability standards.\n",
      "\n",
      "Versatility: Suitable for diverse applications including SEO content creation, academic writing, marketing copy, and more.\n",
      "\n",
      "Benefits of Using a Long Text Generator\n",
      "\n",
      "Enhanced Productivity: Frees up time for other tasks by accelerating the content creation process.\n",
      "\n",
      "Consistency: Maintains consistency in tone and style across large volumes of text, ideal for maintaining brand voice.\n",
      "\n",
      "Cost-Effective: Reduces costs associated with hiring freelance writers or content creators.\n",
      "\n",
      "SEO-Friendly: Optimizes content for search engines with strategically placed keywords and relevant information.\n",
      "\n",
      "Frequently Asked Questions (FAQs) about Long Text Generators\n",
      "\n",
      "Q1: Are Long Text Generators capable of producing plagiarism-free content?\n",
      "\n",
      "\n",
      "\n",
      "A: Yes, reputable Long Text Generators use advanced algorithms to ensure the generated content is unique and plagiarism-free. However, itâ€™s advisable to run the output through plagiarism detection tools for verification.\n",
      "\n",
      "\n",
      "\n",
      "Q2: Can Long Text Generators replace human writers entirely?\n",
      "\n",
      "\n",
      "\n",
      "A: While Long Text Generators are highly efficient, they are best used as tools to aid human writers rather than completely replace them. Human creativity, intuition, and context understanding still play crucial roles in content creation.\n",
      "\n",
      "\n",
      "\n",
      "Q3: How can I ensure the quality of content generated by a Long Text Generator?\n",
      "\n",
      "\n",
      "\n",
      "A: To maintain quality, provide clear instructions, review and edit the generated content as needed, and use reliable Long Text Generators known for producing high-quality outputs.\n",
      "\n",
      "\n",
      "\n",
      "Q4: Are Long Text Generators suitable for academic writing?\n",
      "\n",
      "\n",
      "\n",
      "A: Long Text Generators can assist in generating initial drafts and ideas for academic writing. However, academic integrity guidelines must be followed, and the final content should undergo thorough review and citation.\n",
      "\n",
      "\n",
      "\n",
      "Conclusion\n",
      "\n",
      "In conclusion, Long Text Generators represent a groundbreaking innovation in content creation technology, offering unmatched efficiency and versatility.\n",
      "\n",
      "\n",
      "\n",
      "Whether youâ€™re looking to boost your websiteâ€™s SEO ranking, create informative blog posts, or generate academic papers, these tools provide a valuable resource for achieving your content goals effectively. Embrace the future of content creation with Long Text Generators and revolutionize the way you produce engaging textual content.\n"
     ]
    }
   ],
   "source": [
    "with open('file1.txt', 'r') as f:\n",
    "    for line in f.readlines():\n",
    "        print(line)"
   ]
  },
  {
   "cell_type": "code",
   "execution_count": null,
   "metadata": {},
   "outputs": [],
   "source": [
    "with open('file1.txt', 'r') as f:\n",
    "    line = iter(f.readlines())"
   ]
  },
  {
   "cell_type": "code",
   "execution_count": 269,
   "metadata": {},
   "outputs": [
    {
     "name": "stdout",
     "output_type": "stream",
     "text": [
      "yes\n"
     ]
    }
   ],
   "source": [
    "if 'prompts' in next(line):\n",
    "    print(\"yes\")"
   ]
  },
  {
   "cell_type": "code",
   "execution_count": 272,
   "metadata": {},
   "outputs": [
    {
     "name": "stdout",
     "output_type": "stream",
     "text": [
      "In the ever-evolving landscape of digital content creation, efficiency and creativity are paramount. Whether youâ€™re a blogger, marketer, student, or entrepreneur, generating lengthy, compelling text can be a daunting task. Enter the Long Text Generator an innovative tool designed to streamline the process of creating extensive textual content with ease and efficiency.\n",
      "\n",
      "\n",
      "\n",
      "What is a Long Text Generator?\n",
      "\n",
      "A Long Text Generator is an AI-powered tool that automates the generation of lengthy pieces of text based on user input. By utilizing advanced algorithms and natural language processing (NLP) techniques, these generators can produce coherent and contextually relevant content on a wide range of topics. This technology marks a significant leap forward in content creation, offering a solution to the time-consuming nature of writing comprehensive articles, essays, product descriptions, and more.\n",
      "\n",
      "\n",
      "\n",
      "How Does a Long Text Generator Work?\n",
      "\n",
      "Long Text Generators operate by analyzing input provided by the user, such as keywords, prompts, or specific instructions. The algorithm then processes this information to generate paragraphs or even entire articles that mimic human-written content in style and structure. This process involves understanding context, grammar rules, and semantic relationships to ensure the output is coherent and meaningful.\n",
      "\n",
      "\n",
      "\n",
      "Key Features of Long Text Generators\n",
      "\n",
      "Customization: Users can tailor the generated text by adjusting parameters like tone, style, and word count to fit their specific requirements.\n",
      "\n",
      "Speed: Instantly produces large volumes of text, saving significant time compared to traditional manual writing.\n",
      "\n",
      "Quality: Generates content that is grammatically correct, contextually relevant, and suitable for various purposes, maintaining high readability standards.\n",
      "\n",
      "Versatility: Suitable for diverse applications including SEO content creation, academic writing, marketing copy, and more.\n",
      "\n",
      "Benefits of Using a Long Text Generator\n",
      "\n",
      "Enhanced Productivity: Frees up time for other tasks by accelerating the content creation process.\n",
      "\n",
      "Consistency: Maintains consistency in tone and style across large volumes of text, ideal for maintaining brand voice.\n",
      "\n",
      "Cost-Effective: Reduces costs associated with hiring freelance writers or content creators.\n",
      "\n",
      "SEO-Friendly: Optimizes content for search engines with strategically placed keywords and relevant information.\n",
      "\n",
      "Frequently Asked Questions (FAQs) about Long Text Generators\n",
      "\n",
      "Q1: Are Long Text Generators capable of producing plagiarism-free content?\n",
      "\n",
      "\n",
      "\n",
      "A: Yes, reputable Long Text Generators use advanced algorithms to ensure the generated content is unique and plagiarism-free. However, itâ€™s advisable to run the output through plagiarism detection tools for verification.\n",
      "\n",
      "\n",
      "\n",
      "Q2: Can Long Text Generators replace human writers entirely?\n",
      "\n",
      "\n",
      "\n",
      "A: While Long Text Generators are highly efficient, they are best used as tools to aid human writers rather than completely replace them. Human creativity, intuition, and context understanding still play crucial roles in content creation.\n",
      "\n",
      "\n",
      "\n",
      "Q3: How can I ensure the quality of content generated by a Long Text Generator?\n",
      "\n",
      "\n",
      "\n",
      "A: To maintain quality, provide clear instructions, review and edit the generated content as needed, and use reliable Long Text Generators known for producing high-quality outputs.\n",
      "\n",
      "\n",
      "\n",
      "Q4: Are Long Text Generators suitable for academic writing?\n",
      "\n",
      "\n",
      "\n",
      "A: Long Text Generators can assist in generating initial drafts and ideas for academic writing. However, academic integrity guidelines must be followed, and the final content should undergo thorough review and citation.\n",
      "\n",
      "\n",
      "\n",
      "Conclusion\n",
      "\n",
      "In conclusion, Long Text Generators represent a groundbreaking innovation in content creation technology, offering unmatched efficiency and versatility.\n",
      "\n",
      "\n",
      "\n",
      "Whether youâ€™re looking to boost your websiteâ€™s SEO ranking, create informative blog posts, or generate academic papers, these tools provide a valuable resource for achieving your content goals effectively. Embrace the future of content creation with Long Text Generators and revolutionize the way you produce engaging textual content.\n"
     ]
    }
   ],
   "source": [
    "def readlines(filename):\n",
    "    with open(filename, 'r') as f:\n",
    "        for line in f.readlines():\n",
    "            yield line\n",
    "\n",
    "for line in readlines('file1.txt'):\n",
    "    print(line)\n",
    "            "
   ]
  },
  {
   "cell_type": "code",
   "execution_count": 273,
   "metadata": {},
   "outputs": [],
   "source": [
    "def readlines(filename):\n",
    "    with open(filename, 'r') as f:\n",
    "        for line in f.readlines():\n",
    "            yield line\n",
    "\n",
    "            "
   ]
  },
  {
   "cell_type": "code",
   "execution_count": 274,
   "metadata": {},
   "outputs": [],
   "source": [
    "line = readlines('file1.txt')"
   ]
  },
  {
   "cell_type": "code",
   "execution_count": 280,
   "metadata": {},
   "outputs": [
    {
     "data": {
      "text/plain": [
       "'How Does a Long Text Generator Work?\\n'"
      ]
     },
     "execution_count": 280,
     "metadata": {},
     "output_type": "execute_result"
    }
   ],
   "source": [
    "next(line)"
   ]
  },
  {
   "cell_type": "code",
   "execution_count": 281,
   "metadata": {},
   "outputs": [
    {
     "name": "stdout",
     "output_type": "stream",
     "text": [
      "[1, 2, 3, 4, 5, 6, 7, 8, 9, 10]\n"
     ]
    }
   ],
   "source": [
    "li = [i for i in range(1,11)]\n",
    "print(li)"
   ]
  },
  {
   "cell_type": "code",
   "execution_count": 283,
   "metadata": {},
   "outputs": [],
   "source": [
    "li = (i for i in range(1,11))"
   ]
  },
  {
   "cell_type": "code",
   "execution_count": 289,
   "metadata": {},
   "outputs": [
    {
     "data": {
      "text/plain": [
       "6"
      ]
     },
     "execution_count": 289,
     "metadata": {},
     "output_type": "execute_result"
    }
   ],
   "source": [
    "next(li)"
   ]
  },
  {
   "cell_type": "code",
   "execution_count": null,
   "metadata": {},
   "outputs": [],
   "source": []
  }
 ],
 "metadata": {
  "kernelspec": {
   "display_name": "venv",
   "language": "python",
   "name": "python3"
  },
  "language_info": {
   "codemirror_mode": {
    "name": "ipython",
    "version": 3
   },
   "file_extension": ".py",
   "mimetype": "text/x-python",
   "name": "python",
   "nbconvert_exporter": "python",
   "pygments_lexer": "ipython3",
   "version": "3.12.5"
  }
 },
 "nbformat": 4,
 "nbformat_minor": 2
}
