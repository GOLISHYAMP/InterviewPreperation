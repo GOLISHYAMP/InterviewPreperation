{
 "cells": [
  {
   "cell_type": "markdown",
   "metadata": {},
   "source": [
    "#### Introduction to Logging\n",
    "Logging provides a way to record events, errors, and informational messages in your code. The logging module is part of Python's standard library and offers flexibility for capturing and formatting log messages.\n",
    "\n",
    "#### Basic Concepts\n",
    "##### Log Levels:\n",
    "\n",
    "1. DEBUG: Detailed information for diagnosing problems.\n",
    "2. INFO: General operational messages.\n",
    "3. WARNING: Something unexpected or an issue that may become a problem.\n",
    "4. ERROR: A more serious issue, the software might not function properly.\n",
    "5. CRITICAL: A severe error, the program may abort.\n",
    "\n",
    "##### Logger: The object used to create log messages.\n",
    "##### Handler: Determines where the logs go (console, file, etc.).\n",
    "##### Formatter: Specifies the format of log messages.\n",
    "\n"
   ]
  },
  {
   "cell_type": "code",
   "execution_count": 4,
   "metadata": {},
   "outputs": [
    {
     "name": "stderr",
     "output_type": "stream",
     "text": [
      "2024-12-29 11:30:15,014 - DEBUG - This is a debug message\n",
      "2024-12-29 11:30:15,015 - INFO - This is an info message\n",
      "2024-12-29 11:30:15,016 - WARNING - This is a warning message\n",
      "2024-12-29 11:30:15,017 - ERROR - This is an error message\n",
      "2024-12-29 11:30:15,017 - CRITICAL - This is a critical message\n"
     ]
    }
   ],
   "source": [
    "import logging\n",
    "\n",
    "# Configure the basic settings\n",
    "logging.basicConfig(\n",
    "                    format='%(asctime)s - %(levelname)s - %(message)s')\n",
    "\n",
    "# Logging messages\n",
    "logging.debug(\"This is a debug message\")\n",
    "logging.info(\"This is an info message\")\n",
    "logging.warning(\"This is a warning message\")\n",
    "logging.error(\"This is an error message\")\n",
    "logging.critical(\"This is a critical message\")\n"
   ]
  },
  {
   "cell_type": "code",
   "execution_count": 10,
   "metadata": {},
   "outputs": [
    {
     "name": "stderr",
     "output_type": "stream",
     "text": [
      "2024-12-29 11:59:41,833 - DEBUG - This is a debug message\n",
      "2024-12-29 11:59:41,834 - INFO - This is an info message\n",
      "2024-12-29 11:59:41,835 - WARNING - This is a warning message\n",
      "2024-12-29 11:59:41,836 - ERROR - This is an error message\n",
      "2024-12-29 11:59:41,837 - CRITICAL - This is a critical message\n"
     ]
    }
   ],
   "source": [
    "import logging\n",
    "\n",
    "# Configure the basic settings\n",
    "logging.basicConfig(level=logging.INFO,\n",
    "                    format='%(asctime)s - %(levelname)s - %(message)s')\n",
    "\n",
    "# Logging messages\n",
    "logging.debug(\"This is a debug message\")\n",
    "logging.info(\"This is an info message\")\n",
    "logging.warning(\"This is a warning message\")\n",
    "logging.error(\"This is an error message\")\n",
    "logging.critical(\"This is a critical message\")\n"
   ]
  },
  {
   "cell_type": "markdown",
   "metadata": {},
   "source": [
    "Remember 2 things needed to set\n",
    "\n",
    "1. logger\n",
    "2. handler\n",
    "    1. formatter\n",
    "    2. level"
   ]
  },
  {
   "cell_type": "code",
   "execution_count": 11,
   "metadata": {},
   "outputs": [
    {
     "name": "stderr",
     "output_type": "stream",
     "text": [
      "2024-12-29 12:01:39,187 - DEBUG - first log\n",
      "2024-12-29 12:01:39,188 - ERROR - second log\n"
     ]
    }
   ],
   "source": [
    "import logging\n",
    "import logging.handlers\n",
    "\n",
    "logger = logging.getLogger(__name__)    # created a logger\n",
    "\n",
    "filehandler = logging.FileHandler('Demo.log')\n",
    "\n",
    "formatter = logging.Formatter('%(asctime)s - %(levelname)s - %(message)s')\n",
    "filehandler.setFormatter(formatter)\n",
    "\n",
    "filehandler.setLevel(logging.INFO)\n",
    "\n",
    "logger.addHandler(filehandler)\n",
    "\n",
    "logger.debug(\"first log\")\n",
    "logger.error('second log')\n",
    "\n"
   ]
  },
  {
   "cell_type": "markdown",
   "metadata": {},
   "source": [
    "# Again practice"
   ]
  },
  {
   "cell_type": "code",
   "execution_count": 1,
   "metadata": {},
   "outputs": [],
   "source": [
    "import logging\n",
    "\n",
    "logger = logging.getLogger()\n",
    "\n",
    "filehandler = logging.FileHandler('Demo.log')\n",
    "\n",
    "format = logging.Formatter('%(asctime)s - %(levelname)s - %(message)s')\n",
    "filehandler.setFormatter(format)\n",
    "\n",
    "filehandler.setLevel(logging.DEBUG)\n",
    "\n",
    "logger.addHandler(filehandler)\n",
    "\n",
    "\n",
    "logger.info('First log')\n",
    "logger.error('Second log')\n",
    "logger.critical(\"Third log\")\n",
    "logger.debug(\"Forth log\")\n",
    "logger.warning('fifth log')"
   ]
  },
  {
   "cell_type": "code",
   "execution_count": null,
   "metadata": {},
   "outputs": [],
   "source": []
  }
 ],
 "metadata": {
  "kernelspec": {
   "display_name": "venv",
   "language": "python",
   "name": "python3"
  },
  "language_info": {
   "codemirror_mode": {
    "name": "ipython",
    "version": 3
   },
   "file_extension": ".py",
   "mimetype": "text/x-python",
   "name": "python",
   "nbconvert_exporter": "python",
   "pygments_lexer": "ipython3",
   "version": "3.12.5"
  }
 },
 "nbformat": 4,
 "nbformat_minor": 2
}
