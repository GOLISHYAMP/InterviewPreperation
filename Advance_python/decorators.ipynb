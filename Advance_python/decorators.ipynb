{
 "cells": [
  {
   "cell_type": "code",
   "execution_count": 15,
   "metadata": {},
   "outputs": [
    {
     "name": "stdout",
     "output_type": "stream",
     "text": [
      "Good MorningGood MorningGood Morning\n",
      "Hello shyam\n",
      "Bye\n"
     ]
    }
   ],
   "source": [
    "def decor(reps):\n",
    "    def say_GM(func):\n",
    "        def inner(*args):\n",
    "            print(\"Good Morning\" * reps)\n",
    "            func(args[0])\n",
    "            print(\"Bye\")\n",
    "        return inner\n",
    "    return say_GM\n",
    "\n",
    "@decor(3)\n",
    "def say_hello(name):\n",
    "    print(\"Hello\",name)\n",
    "\n",
    "# say_hello()\n",
    "# say_GM(say_hello)\n",
    "say_hello(\"shyam\")"
   ]
  },
  {
   "cell_type": "code",
   "execution_count": 12,
   "metadata": {},
   "outputs": [
    {
     "name": "stdout",
     "output_type": "stream",
     "text": [
      "good morning 3 times\n",
      "hello shyam\n"
     ]
    }
   ],
   "source": [
    "def decor(rep):\n",
    "    def innerdecor(func):\n",
    "        def inner(*args):\n",
    "            print(f'good morning {rep} times')\n",
    "            func(args[0])\n",
    "        return inner\n",
    "    return innerdecor\n",
    "\n",
    "@decor(3)\n",
    "def say_hello(name):\n",
    "    print(f\"hello {name}\")\n",
    "\n",
    "say_hello('shyam')"
   ]
  },
  {
   "cell_type": "code",
   "execution_count": 24,
   "metadata": {},
   "outputs": [
    {
     "name": "stdout",
     "output_type": "stream",
     "text": [
      "0\n",
      "2\n",
      "4\n",
      "6\n",
      "8\n",
      "45\n",
      "45\n",
      "45\n"
     ]
    }
   ],
   "source": [
    "def decors(iters):\n",
    "    def decor(func):\n",
    "        def inner(*args, **kwargs):\n",
    "            for n in range(args[0]):\n",
    "                if n%2 == 0:\n",
    "                    print(n)\n",
    "            for i in range(iters):\n",
    "                func(args[0])\n",
    "        return inner\n",
    "    return decor\n",
    "\n",
    "@decors(3)\n",
    "def add_num(num):\n",
    "    print(sum([i for i in range(num)]))\n",
    "\n",
    "add_num(10)\n"
   ]
  },
  {
   "cell_type": "code",
   "execution_count": 17,
   "metadata": {},
   "outputs": [
    {
     "name": "stdout",
     "output_type": "stream",
     "text": [
      "good morning\n",
      "hello hii\n",
      "good evening\n"
     ]
    }
   ],
   "source": [
    "def dec(func):\n",
    "    def inner():\n",
    "        print('good morning')\n",
    "        func()\n",
    "        print('good evening')\n",
    "    return inner\n",
    "\n",
    "@dec\n",
    "def say_hello():\n",
    "    print(f'hello hii')\n",
    "\n",
    "say_hello()"
   ]
  },
  {
   "cell_type": "code",
   "execution_count": 21,
   "metadata": {},
   "outputs": [
    {
     "name": "stdout",
     "output_type": "stream",
     "text": [
      "good morning\n",
      "hii shyam\n",
      "bye\n",
      "good morning\n",
      "hii shyam\n",
      "bye\n",
      "good morning\n",
      "hii shyam\n",
      "bye\n"
     ]
    }
   ],
   "source": [
    "def deco(n):\n",
    "    def outter(func):\n",
    "        def inner(*args, **kwargs):\n",
    "            for _ in range(n):\n",
    "                print(\"good morning\")\n",
    "                func(args[0])\n",
    "                print('bye')\n",
    "        return inner\n",
    "    return outter\n",
    "\n",
    "@deco(3)\n",
    "def say_hello(name):\n",
    "    print(f\"hii {name}\")\n",
    "    \n",
    "say_hello('shyam')"
   ]
  },
  {
   "cell_type": "code",
   "execution_count": 11,
   "metadata": {},
   "outputs": [
    {
     "name": "stdout",
     "output_type": "stream",
     "text": [
      "good morning\n",
      "hii Shyam\n",
      "bye\n",
      "good morning\n",
      "hii Shyam\n",
      "bye\n",
      "good morning\n",
      "hii Shyam\n",
      "bye\n"
     ]
    }
   ],
   "source": [
    "def multiple(n):\n",
    "    def deco(func):\n",
    "        def innerfunc(*args, **kwargs):\n",
    "            for i in range(n):\n",
    "                print(\"good morning\")\n",
    "                func(*args, **kwargs)\n",
    "                print('bye')\n",
    "        return innerfunc\n",
    "    return deco\n",
    "\n",
    "@multiple(3)\n",
    "def say_hello(name):\n",
    "    print(f\"hii {name}\")\n",
    "    \n",
    "say_hello('Shyam')"
   ]
  },
  {
   "cell_type": "code",
   "execution_count": null,
   "metadata": {},
   "outputs": [],
   "source": []
  }
 ],
 "metadata": {
  "kernelspec": {
   "display_name": "venv",
   "language": "python",
   "name": "python3"
  },
  "language_info": {
   "codemirror_mode": {
    "name": "ipython",
    "version": 3
   },
   "file_extension": ".py",
   "mimetype": "text/x-python",
   "name": "python",
   "nbconvert_exporter": "python",
   "pygments_lexer": "ipython3",
   "version": "3.12.5"
  }
 },
 "nbformat": 4,
 "nbformat_minor": 2
}
